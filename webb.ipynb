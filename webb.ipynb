{
 "cells": [
  {
   "cell_type": "markdown",
   "metadata": {},
   "source": [
    "## Trajectory of JWST"
   ]
  },
  {
   "cell_type": "code",
   "execution_count": 210,
   "metadata": {},
   "outputs": [],
   "source": [
    "%matplotlib inline"
   ]
  },
  {
   "cell_type": "code",
   "execution_count": 3,
   "metadata": {},
   "outputs": [],
   "source": [
    "from astroquery.jplhorizons import Horizons"
   ]
  },
  {
   "cell_type": "code",
   "execution_count": 4,
   "metadata": {},
   "outputs": [],
   "source": [
    "from astropy.time import Time\n",
    "from astropy.coordinates import SkyCoord, EarthLocation\n",
    "import astropy.units as u"
   ]
  },
  {
   "cell_type": "code",
   "execution_count": 5,
   "metadata": {},
   "outputs": [],
   "source": [
    "import matplotlib.pyplot as plt"
   ]
  },
  {
   "cell_type": "code",
   "execution_count": 6,
   "metadata": {},
   "outputs": [],
   "source": [
    "from matplotlib import dates"
   ]
  },
  {
   "cell_type": "code",
   "execution_count": 7,
   "metadata": {},
   "outputs": [],
   "source": [
    "import matplotlib"
   ]
  },
  {
   "cell_type": "code",
   "execution_count": 8,
   "metadata": {},
   "outputs": [],
   "source": [
    "import numpy as np"
   ]
  },
  {
   "cell_type": "code",
   "execution_count": 9,
   "metadata": {},
   "outputs": [],
   "source": [
    "dwl = EarthLocation(lat=\"52d48m43.27\", lon=\"6d23m46.21\", height=\"25m\")\n",
    "dwl_jpl = {'lat': dwl.lat.deg, 'lon': dwl.lon.deg, 'elevation': dwl.height.to(u.m).value}"
   ]
  },
  {
   "cell_type": "code",
   "execution_count": 216,
   "metadata": {},
   "outputs": [],
   "source": [
    "epochs = Time(\"2021-12-26T00:00\") + np.linspace(17, 28, 44, endpoint=False)*u.hour"
   ]
  },
  {
   "cell_type": "code",
   "execution_count": 218,
   "metadata": {},
   "outputs": [],
   "source": [
    "ephem_jwst = Horizons(id='JWST', location=dwl_jpl,\n",
    "                      epochs=list(epochs.jd), id_type='majorbody').ephemerides()\n",
    "## Use location '015' (Utrecht) for vectors since it does not accept Dwingeloo\n",
    "vectors_jwst = Horizons(id='jwst', location='015', epochs=list(epochs.jd), id_type='majorbody').vectors()"
   ]
  },
  {
   "cell_type": "code",
   "execution_count": 219,
   "metadata": {},
   "outputs": [],
   "source": [
    "skycoord_jwst = SkyCoord(ra=ephem_jwst['RA'], dec=ephem_jwst['DEC'])"
   ]
  },
  {
   "cell_type": "code",
   "execution_count": 220,
   "metadata": {},
   "outputs": [
    {
     "data": {
      "image/png": "[encoded data removed]",
      "text/plain": [
       "<Figure size 432x288 with 1 Axes>"
      ]
     },
     "metadata": {
      "needs_background": "light"
     },
     "output_type": "display_data"
    }
   ],
   "source": [
    "plt.plot(Time(ephem_jwst['datetime_jd'], format='jd').datetime, vectors_jwst['range'].to(u.km), '.');"
   ]
  },
  {
   "cell_type": "code",
   "execution_count": 221,
   "metadata": {},
   "outputs": [],
   "source": [
    "# https://nova.astrometry.net/user_images/5479042#annotated"
   ]
  },
  {
   "cell_type": "code",
   "execution_count": 222,
   "metadata": {},
   "outputs": [],
   "source": [
    "!wget https://nova.astrometry.net/new_fits_file/6045856"
   ]
  },
  {
   "cell_type": "code",
   "execution_count": 223,
   "metadata": {},
   "outputs": [],
   "source": [
    "from astropy.io import fits\n",
    "from astropy.wcs import WCS"
   ]
  },
  {
   "cell_type": "code",
   "execution_count": 224,
   "metadata": {},
   "outputs": [],
   "source": [
    "hdu = fits.open(\"6045856\")[0]"
   ]
  },
  {
   "cell_type": "code",
   "execution_count": 225,
   "metadata": {},
   "outputs": [],
   "source": [
    "wcs = WCS(hdu.header, naxis=2)"
   ]
  },
  {
   "cell_type": "code",
   "execution_count": 226,
   "metadata": {},
   "outputs": [],
   "source": [
    "from ipywidgets import interact"
   ]
  },
  {
   "cell_type": "code",
   "execution_count": 234,
   "metadata": {},
   "outputs": [
    {
     "data": {
      "application/vnd.jupyter.widget-view+json": {
       "model_id": "358cfd32dc724af68166e2fd23a89aa1",
       "version_major": 2,
       "version_minor": 0
      },
      "text/plain": [
       "interactive(children=(IntSlider(value=21, description='i', max=43), Output()), _dom_classes=('widget-interact'…"
      ]
     },
     "metadata": {},
     "output_type": "display_data"
    }
   ],
   "source": [
    "@interact(i=(0,len(skycoord_jwst)-1))\n",
    "def make_plot(i):\n",
    "    fig = plt.figure(figsize=(10, 8))\n",
    "    ax = fig.add_subplot(projection=wcs)\n",
    "    ax.imshow(hdu.data[0], cmap='gray')\n",
    "    ax.invert_yaxis()\n",
    "    ax.scatter(skycoord_jwst[i].ra, skycoord_jwst[i].dec,\n",
    "               transform=ax.get_transform(\"world\"), marker=\"o\", color=\"r\", facecolors=\"None\");\n",
    "    ax.set_title(Time(ephem_jwst['datetime_jd'], format='jd').iso[i][:19] + \"UTC\")\n",
    "    ax.set_xlim(1100, 2200)\n",
    "    ax.set_ylim(1550, 450)\n",
    "    ax.set_xlabel(\"Right ascension\")\n",
    "    ax.set_ylabel(\"Declination\")\n",
    "    return fig"
   ]
  },
  {
   "cell_type": "code",
   "execution_count": 235,
   "metadata": {},
   "outputs": [],
   "source": [
    "for i in range(len(skycoord_jwst)):\n",
    "    fig = make_plot(i)\n",
    "    fig.savefig(f\"jwst_frame{i:02d}.png\", facecolor=\"white\", bbox_inches=\"tight\")\n",
    "    plt.close(\"all\")"
   ]
  },
  {
   "cell_type": "markdown",
   "metadata": {},
   "source": [
    "```\n",
    "mogrify -crop 100%x100%+0-1 jwst*.png\n",
    "ffmpeg -framerate 1 -pattern_type glob -i 'jwst*.png' -c:v libx264 -r 30 -pix_fmt yuv420p out.mp4\n",
    "```"
   ]
  },
  {
   "cell_type": "code",
   "execution_count": null,
   "metadata": {},
   "outputs": [],
   "source": []
  }
 ],
 "metadata": {
  "kernelspec": {
   "display_name": "Python 3 (ipykernel)",
   "language": "python",
   "name": "python3"
  },
  "language_info": {
   "codemirror_mode": {
    "name": "ipython",
    "version": 3
   },
   "file_extension": ".py",
   "mimetype": "text/x-python",
   "name": "python",
   "nbconvert_exporter": "python",
   "pygments_lexer": "ipython3",
   "version": "3.9.7"
  }
 },
 "nbformat": 4,
 "nbformat_minor": 4
}
